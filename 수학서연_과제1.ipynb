{
  "nbformat": 4,
  "nbformat_minor": 0,
  "metadata": {
    "colab": {
      "provenance": [],
      "include_colab_link": true
    },
    "kernelspec": {
      "name": "python3",
      "display_name": "Python 3"
    },
    "language_info": {
      "name": "python"
    }
  },
  "cells": [
    {
      "cell_type": "markdown",
      "metadata": {
        "id": "view-in-github",
        "colab_type": "text"
      },
      "source": [
        "<a href=\"https://colab.research.google.com/github/seoyeon2022/_-py/blob/main/%EC%88%98%ED%95%99%EC%84%9C%EC%97%B0_%EA%B3%BC%EC%A0%9C1.ipynb\" target=\"_parent\"><img src=\"https://colab.research.google.com/assets/colab-badge.svg\" alt=\"Open In Colab\"/></a>"
      ]
    },
    {
      "cell_type": "markdown",
      "source": [],
      "metadata": {
        "id": "xPKeBalnIHz-"
      }
    },
    {
      "cell_type": "code",
      "execution_count": null,
      "metadata": {
        "colab": {
          "base_uri": "https://localhost:8080/"
        },
        "id": "xvehb-s8A2Re",
        "outputId": "5dfd694e-1c41-491f-eaa8-d8f054672d92"
      },
      "outputs": [
        {
          "output_type": "stream",
          "name": "stdout",
          "text": [
            "136385925390784\n",
            "136385925390784\n",
            "136385925390784\n"
          ]
        }
      ],
      "source": [
        "#연습문제 104p. 8번\n",
        "color = ['빨강','주황','노랑']\n",
        "name = ['존','메리']\n",
        "#print(id(new))\n",
        "print(id(color))\n",
        "\n",
        "new = color\n",
        "print(id(new))\n",
        "print(id(color))"
      ]
    },
    {
      "cell_type": "code",
      "source": [
        "color = ['빨강','주황','노랑']\n",
        "name = ['존','메리']\n",
        "new = color\n",
        "new.append(name[0])\n",
        "print(color)\n",
        "print(new)\n",
        "new = color[1]\n",
        "print(id(new))\n",
        "print(id(color))\n",
        "print(color)\n",
        "print(new)"
      ],
      "metadata": {
        "colab": {
          "base_uri": "https://localhost:8080/"
        },
        "id": "OFRbiEfuJXt3",
        "outputId": "22e7a01d-ef11-44df-97af-f8e47b8b3996"
      },
      "execution_count": null,
      "outputs": [
        {
          "output_type": "stream",
          "name": "stdout",
          "text": [
            "['빨강', '주황', '노랑', '존']\n",
            "['빨강', '주황', '노랑', '존']\n",
            "136385687399824\n",
            "136386754744768\n",
            "['빨강', '주황', '노랑', '존']\n",
            "주황\n"
          ]
        }
      ]
    },
    {
      "cell_type": "markdown",
      "source": [
        "#조건문"
      ],
      "metadata": {
        "id": "TL5jGMKdLZ9n"
      }
    },
    {
      "cell_type": "code",
      "source": [
        "if 조건식:\n",
        "    실행문장\n",
        "    실행문장"
      ],
      "metadata": {
        "id": "9b_SyhJOLchJ"
      },
      "execution_count": null,
      "outputs": []
    },
    {
      "cell_type": "code",
      "source": [
        "if 조건식:\n",
        "    실행문장1\n",
        "    실행문장2\n",
        "else: #else 뒤에는 조건문을 적지 않는다.\n",
        "    실행문장3\n",
        "    실행문장4"
      ],
      "metadata": {
        "id": "XpLycX4oOqqe"
      },
      "execution_count": null,
      "outputs": []
    },
    {
      "cell_type": "code",
      "source": [
        "if 조건식:\n",
        "    실행문장1\n",
        "    실행문장2\n",
        "elif 조건식: #elif는 여러개 나올수 있음.\n",
        "    실행문장3\n",
        "    실행문장4\n",
        "else:\n",
        "    실행문장5"
      ],
      "metadata": {
        "id": "0Hlxx7vZOnLd"
      },
      "execution_count": null,
      "outputs": []
    },
    {
      "cell_type": "code",
      "source": [
        "if 1:\n",
        "    print('good')\n",
        "else:\n",
        "    print('False')"
      ],
      "metadata": {
        "colab": {
          "base_uri": "https://localhost:8080/"
        },
        "id": "kzLxW2GlQKqv",
        "outputId": "a0aecea2-aabd-4abc-a643-a31ccc555573"
      },
      "execution_count": null,
      "outputs": [
        {
          "output_type": "stream",
          "name": "stdout",
          "text": [
            "good\n"
          ]
        }
      ]
    },
    {
      "cell_type": "code",
      "source": [
        "if 0:\n",
        "    print('good')\n",
        "else:\n",
        "    print('False')"
      ],
      "metadata": {
        "colab": {
          "base_uri": "https://localhost:8080/"
        },
        "id": "h_naHfjEQc-S",
        "outputId": "a48caf06-6f3e-41ca-d036-5ce023666f71"
      },
      "execution_count": null,
      "outputs": [
        {
          "output_type": "stream",
          "name": "stdout",
          "text": [
            "False\n"
          ]
        }
      ]
    },
    {
      "cell_type": "code",
      "source": [
        "print(3>5)"
      ],
      "metadata": {
        "colab": {
          "base_uri": "https://localhost:8080/"
        },
        "id": "IzSwFxW0QvCD",
        "outputId": "4f3cf732-e6a5-4055-fe57-b6f5ae7b0683"
      },
      "execution_count": null,
      "outputs": [
        {
          "output_type": "stream",
          "name": "stdout",
          "text": [
            "False\n"
          ]
        }
      ]
    },
    {
      "cell_type": "code",
      "source": [
        "print(3>5 <10) # 3>5 and 5<10 , False and True"
      ],
      "metadata": {
        "colab": {
          "base_uri": "https://localhost:8080/"
        },
        "id": "ozB0rXNiQy-3",
        "outputId": "26f962a1-2128-4159-8b7d-7a90196d1985"
      },
      "execution_count": null,
      "outputs": [
        {
          "output_type": "stream",
          "name": "stdout",
          "text": [
            "False\n"
          ]
        }
      ]
    },
    {
      "cell_type": "code",
      "source": [
        "print((3>5) <10) # 0<10"
      ],
      "metadata": {
        "colab": {
          "base_uri": "https://localhost:8080/"
        },
        "id": "BVgyQDTmQ3cl",
        "outputId": "670da346-da44-47f6-e986-d69c88402e8d"
      },
      "execution_count": null,
      "outputs": [
        {
          "output_type": "stream",
          "name": "stdout",
          "text": [
            "True\n"
          ]
        }
      ]
    },
    {
      "cell_type": "code",
      "source": [
        "score = int(input (\"Enter your scoge: \"))\n",
        "\n",
        "if score >= 90:\n",
        "    grade = 'A'\n",
        "if score >= 80:\n",
        "    grade = 'B'\n",
        "if score >= 70:\n",
        "    grade = 'C'\n",
        "if score >= 60:\n",
        "    grade = 'D'\n",
        "if score < 60:\n",
        "    grade = 'F'\n",
        "print (grade) # 올바른 값은 A출력이 나와야함."
      ],
      "metadata": {
        "colab": {
          "base_uri": "https://localhost:8080/"
        },
        "id": "9yPVuTnmR7pW",
        "outputId": "b89932d3-b883-4e64-81e1-450063da6c8f"
      },
      "execution_count": null,
      "outputs": [
        {
          "output_type": "stream",
          "name": "stdout",
          "text": [
            "Enter your scoge: 98\n",
            "D\n"
          ]
        }
      ]
    },
    {
      "cell_type": "code",
      "source": [
        "score = int(input (\"Enter your scoge: \"))\n",
        "\n",
        "if score >= 90:\n",
        "    grade = 'A'\n",
        "elif score >= 80:\n",
        "    grade = 'B'\n",
        "elif score >= 70:\n",
        "    grade = 'C'\n",
        "elif score >= 60:\n",
        "    grade = 'D'\n",
        "else:\n",
        "    grade = 'F'\n",
        "print (f'{grade} 학점 입니다.')"
      ],
      "metadata": {
        "colab": {
          "base_uri": "https://localhost:8080/"
        },
        "id": "OhQOG91HS4wR",
        "outputId": "296a5aad-30e8-4984-c44a-0f42e8ffb067"
      },
      "execution_count": null,
      "outputs": [
        {
          "output_type": "stream",
          "name": "stdout",
          "text": [
            "Enter your scoge: 98\n",
            "A 학점 입니다.\n"
          ]
        }
      ]
    },
    {
      "cell_type": "code",
      "source": [
        "year = int(input (\"출생년도 입력: \"))\n",
        "age = 2024 - int(year) + 1\n",
        "\n",
        "if age <= 26 and age >= 20:\n",
        "    print(\"대학생\")\n",
        "elif age < 20 and age >= 17:\n",
        "    print(\"고등학생\")\n",
        "elif age < 17 and age >= 14:\n",
        "    print(\"중학생\")\n",
        "elif age <= 14 and age >= 8:\n",
        "    print(\"초등학생\")\n",
        "else:\n",
        "    print (\"학생이 아닙니다.\")"
      ],
      "metadata": {
        "colab": {
          "base_uri": "https://localhost:8080/"
        },
        "id": "rs4PlIFsTvfA",
        "outputId": "04f90c7d-345e-4dae-b947-f5b686ce2467"
      },
      "execution_count": null,
      "outputs": [
        {
          "output_type": "stream",
          "name": "stdout",
          "text": [
            "출생년도 입력: 21\n",
            "학생이 아닙니다.\n"
          ]
        }
      ]
    },
    {
      "cell_type": "markdown",
      "source": [
        "# 반복문\n",
        "* for문: 주어진 횟수만큼 반복분을 실행\n",
        "* while문: 주어진 조건식이 참인 동안 반복문 실행"
      ],
      "metadata": {
        "id": "qUiSbGdtU1z6"
      }
    },
    {
      "cell_type": "code",
      "source": [
        "#for문 형식, 범위(리스트, range, 문자열)\n",
        "for i in [-,1,2]:\n",
        "    print('hello')"
      ],
      "metadata": {
        "id": "iYUi2SbdVji2"
      },
      "execution_count": null,
      "outputs": []
    },
    {
      "cell_type": "code",
      "source": [
        "for i in [0,1,2]:\n",
        "    print('hello')"
      ],
      "metadata": {
        "colab": {
          "base_uri": "https://localhost:8080/"
        },
        "id": "ZGFX0ddUV4rO",
        "outputId": "9fe10da5-204d-4261-b84c-68313c9429c7"
      },
      "execution_count": null,
      "outputs": [
        {
          "output_type": "stream",
          "name": "stdout",
          "text": [
            "hello\n",
            "hello\n",
            "hello\n"
          ]
        }
      ]
    },
    {
      "cell_type": "code",
      "source": [
        "for i in [0,1,2]:\n",
        "    print(i, 'hello')"
      ],
      "metadata": {
        "colab": {
          "base_uri": "https://localhost:8080/"
        },
        "id": "835bqdy3V9_m",
        "outputId": "e931fb81-3de3-4c6b-c8b2-7e2a550c9a53"
      },
      "execution_count": null,
      "outputs": [
        {
          "output_type": "stream",
          "name": "stdout",
          "text": [
            "0 hello\n",
            "1 hello\n",
            "2 hello\n"
          ]
        }
      ]
    },
    {
      "cell_type": "code",
      "source": [
        "num = [0,1,2]\n",
        "for i in num:\n",
        "    print(i, 'hello')"
      ],
      "metadata": {
        "colab": {
          "base_uri": "https://localhost:8080/"
        },
        "id": "E6I99ZMWWIOt",
        "outputId": "11c93e75-f51f-43a7-b580-604f3ca2ad8b"
      },
      "execution_count": null,
      "outputs": [
        {
          "output_type": "stream",
          "name": "stdout",
          "text": [
            "0 hello\n",
            "1 hello\n",
            "2 hello\n"
          ]
        }
      ]
    },
    {
      "cell_type": "markdown",
      "source": [
        ",(콤마)\n",
        "''(작은따옴표), \"\"(큰따옴표)"
      ],
      "metadata": {
        "id": "WqTQQXn5WU4v"
      }
    },
    {
      "cell_type": "code",
      "source": [
        "for i in range(1,4): # 1이상 4미만의 수들만큼 반복\n",
        "    print(f'{i}번 학생 hello')"
      ],
      "metadata": {
        "colab": {
          "base_uri": "https://localhost:8080/"
        },
        "id": "T-0jqJOWWgj0",
        "outputId": "9a72e7b3-e021-4468-97a7-4cb3f85f8a18"
      },
      "execution_count": null,
      "outputs": [
        {
          "output_type": "stream",
          "name": "stdout",
          "text": [
            "1번 학생 hello\n",
            "2번 학생 hello\n",
            "3번 학생 hello\n"
          ]
        }
      ]
    },
    {
      "cell_type": "code",
      "source": [
        "for i in range(1,11): # 1이상 11미만의 수들만큼 반복\n",
        "    print(f'{i}번 학생 hello')"
      ],
      "metadata": {
        "colab": {
          "base_uri": "https://localhost:8080/"
        },
        "id": "n0dS3aqAXKCV",
        "outputId": "07f5c1df-3c6d-4b07-fb40-ae30741c1b81"
      },
      "execution_count": null,
      "outputs": [
        {
          "output_type": "stream",
          "name": "stdout",
          "text": [
            "1번 학생 hello\n"
          ]
        }
      ]
    },
    {
      "cell_type": "code",
      "source": [
        "# 홀수 번만\n",
        "for i in range(1,11,2): # 1이상 11미만의 수들만큼 반복\n",
        "    print(f'{i}번 학생 hello')"
      ],
      "metadata": {
        "colab": {
          "base_uri": "https://localhost:8080/"
        },
        "id": "jg32oV-XXU92",
        "outputId": "3e3195ae-701e-4710-ba93-45fbb29fc51a"
      },
      "execution_count": null,
      "outputs": [
        {
          "output_type": "stream",
          "name": "stdout",
          "text": [
            "1번 학생 hello\n",
            "3번 학생 hello\n",
            "5번 학생 hello\n",
            "7번 학생 hello\n",
            "9번 학생 hello\n"
          ]
        }
      ]
    },
    {
      "cell_type": "code",
      "source": [
        "# 짝수 번만\n",
        "for i in range(2,11,2): # 1이상 11미만의 수들만큼 반복\n",
        "    print(f'{i}번 학생 hello')"
      ],
      "metadata": {
        "colab": {
          "base_uri": "https://localhost:8080/"
        },
        "id": "AzKA2a5SXiqm",
        "outputId": "4389833f-0432-4929-b172-6eafe2aaddb7"
      },
      "execution_count": null,
      "outputs": [
        {
          "output_type": "stream",
          "name": "stdout",
          "text": [
            "2번 학생 hello\n",
            "4번 학생 hello\n",
            "6번 학생 hello\n",
            "8번 학생 hello\n",
            "10번 학생 hello\n"
          ]
        }
      ]
    },
    {
      "cell_type": "code",
      "source": [
        "for i in range(1,5): # 1이상 11미만의 수들만큼 반복\n",
        "    print(f'{2*i + 1}번 학생 hello')"
      ],
      "metadata": {
        "colab": {
          "base_uri": "https://localhost:8080/"
        },
        "id": "DRf4npLOXX6r",
        "outputId": "5de14074-552a-45cd-9633-c7be7014473e"
      },
      "execution_count": null,
      "outputs": [
        {
          "output_type": "stream",
          "name": "stdout",
          "text": [
            "3번 학생 hello\n",
            "5번 학생 hello\n",
            "7번 학생 hello\n",
            "9번 학생 hello\n"
          ]
        }
      ]
    },
    {
      "cell_type": "code",
      "source": [
        "for i in range(10,0,-1): # -1을 붙여 역순환\n",
        "    print(f'{i}')\n",
        "else:\n",
        "    print('fire!')"
      ],
      "metadata": {
        "colab": {
          "base_uri": "https://localhost:8080/"
        },
        "id": "hk1iv6RpXulK",
        "outputId": "f9984090-e611-46b6-b4b4-18f4e8f84e30"
      },
      "execution_count": null,
      "outputs": [
        {
          "output_type": "stream",
          "name": "stdout",
          "text": [
            "10\n",
            "9\n",
            "8\n",
            "7\n",
            "6\n",
            "5\n",
            "4\n",
            "3\n",
            "2\n",
            "1\n",
            "fire!\n"
          ]
        }
      ]
    },
    {
      "cell_type": "code",
      "source": [
        "for j in 'python':\n",
        "    print(f'{j}번 학생 Hello')"
      ],
      "metadata": {
        "colab": {
          "base_uri": "https://localhost:8080/"
        },
        "id": "wAYTB0DqYZkx",
        "outputId": "95aa4586-f72b-484a-a196-076b58f09b37"
      },
      "execution_count": null,
      "outputs": [
        {
          "output_type": "stream",
          "name": "stdout",
          "text": [
            "p번 학생 Hello\n",
            "y번 학생 Hello\n",
            "t번 학생 Hello\n",
            "h번 학생 Hello\n",
            "o번 학생 Hello\n",
            "n번 학생 Hello\n"
          ]
        }
      ]
    },
    {
      "cell_type": "code",
      "source": [
        "text = 'python'\n",
        "for j in text:\n",
        "    print(f'{j}번 학생 Hello')"
      ],
      "metadata": {
        "colab": {
          "base_uri": "https://localhost:8080/"
        },
        "id": "SLUdRqniYpO5",
        "outputId": "08b14c17-b836-47f4-8b15-3a0566143288"
      },
      "execution_count": null,
      "outputs": [
        {
          "output_type": "stream",
          "name": "stdout",
          "text": [
            "p번 학생 Hello\n",
            "y번 학생 Hello\n",
            "t번 학생 Hello\n",
            "h번 학생 Hello\n",
            "o번 학생 Hello\n",
            "n번 학생 Hello\n"
          ]
        }
      ]
    },
    {
      "cell_type": "code",
      "source": [
        "for j in 'I love you!':\n",
        "    print(f'{j}행 *')"
      ],
      "metadata": {
        "colab": {
          "base_uri": "https://localhost:8080/"
        },
        "id": "YaLiy8yPZIs8",
        "outputId": "6a3d91fb-76f8-40b2-8ed1-97cda2e0669a"
      },
      "execution_count": null,
      "outputs": [
        {
          "output_type": "stream",
          "name": "stdout",
          "text": [
            "I행 *\n",
            " 행 *\n",
            "l행 *\n",
            "o행 *\n",
            "v행 *\n",
            "e행 *\n",
            " 행 *\n",
            "y행 *\n",
            "o행 *\n",
            "u행 *\n",
            "!행 *\n"
          ]
        }
      ]
    },
    {
      "cell_type": "code",
      "source": [
        "for i in range(0,3):\n",
        "    print(i,'*')"
      ],
      "metadata": {
        "colab": {
          "base_uri": "https://localhost:8080/"
        },
        "id": "GTGPcjQochuQ",
        "outputId": "a5f68408-f7c2-4649-8609-916f6e53c92b"
      },
      "execution_count": null,
      "outputs": [
        {
          "output_type": "stream",
          "name": "stdout",
          "text": [
            "0 *\n",
            "1 *\n",
            "2 *\n"
          ]
        }
      ]
    },
    {
      "cell_type": "code",
      "source": [
        "for i in range(0,3): # i->    0,     1,     2\n",
        "    for j in range(3):# j-> 0,1,2 / 0,1,2 / 0,1,2\n",
        "        print(i, j, '*')#  *,*,* / *,*,* / *,*,*\n",
        "    print()"
      ],
      "metadata": {
        "colab": {
          "base_uri": "https://localhost:8080/"
        },
        "id": "5yqQiRMRcydH",
        "outputId": "53d57d89-f447-46f3-9a93-0a43909b051f"
      },
      "execution_count": null,
      "outputs": [
        {
          "output_type": "stream",
          "name": "stdout",
          "text": [
            "0 0 *\n",
            "0 1 *\n",
            "0 2 *\n",
            "\n",
            "1 0 *\n",
            "1 1 *\n",
            "1 2 *\n",
            "\n",
            "2 0 *\n",
            "2 1 *\n",
            "2 2 *\n",
            "\n"
          ]
        }
      ]
    },
    {
      "cell_type": "code",
      "source": [
        "for i in range(0,3): # i->    0,     1,     2\n",
        "    for j in range(3):# j-> 0,1,2 / 0,1,2 / 0,1,2\n",
        "        print('*', end = '')#  *,*,* / *,*,* / *,*,*\n",
        "    print()"
      ],
      "metadata": {
        "colab": {
          "base_uri": "https://localhost:8080/"
        },
        "id": "-3IBU8LVdXYm",
        "outputId": "13b55388-46a8-42cc-9413-bc16dc114bff"
      },
      "execution_count": null,
      "outputs": [
        {
          "output_type": "stream",
          "name": "stdout",
          "text": [
            "***\n",
            "***\n",
            "***\n"
          ]
        }
      ]
    },
    {
      "cell_type": "code",
      "source": [
        "for i in range(2,10): # i->    2,     3,     4\n",
        "    for j in range(1,10):# j-> 1,2,3,...,9 /1,2,3,...,9 /1,2,3,...,9\n",
        "        print(f'{i} * {j} = {i*j}')#  @\n",
        "    print()"
      ],
      "metadata": {
        "colab": {
          "base_uri": "https://localhost:8080/"
        },
        "id": "_0aaTBKFeMlf",
        "outputId": "a44be650-c0c6-4984-8e50-0f2d154b451c"
      },
      "execution_count": null,
      "outputs": [
        {
          "output_type": "stream",
          "name": "stdout",
          "text": [
            "2 * 1 = 2\n",
            "2 * 2 = 4\n",
            "2 * 3 = 6\n",
            "2 * 4 = 8\n",
            "2 * 5 = 10\n",
            "2 * 6 = 12\n",
            "2 * 7 = 14\n",
            "2 * 8 = 16\n",
            "2 * 9 = 18\n",
            "\n",
            "3 * 1 = 3\n",
            "3 * 2 = 6\n",
            "3 * 3 = 9\n",
            "3 * 4 = 12\n",
            "3 * 5 = 15\n",
            "3 * 6 = 18\n",
            "3 * 7 = 21\n",
            "3 * 8 = 24\n",
            "3 * 9 = 27\n",
            "\n",
            "4 * 1 = 4\n",
            "4 * 2 = 8\n",
            "4 * 3 = 12\n",
            "4 * 4 = 16\n",
            "4 * 5 = 20\n",
            "4 * 6 = 24\n",
            "4 * 7 = 28\n",
            "4 * 8 = 32\n",
            "4 * 9 = 36\n",
            "\n",
            "5 * 1 = 5\n",
            "5 * 2 = 10\n",
            "5 * 3 = 15\n",
            "5 * 4 = 20\n",
            "5 * 5 = 25\n",
            "5 * 6 = 30\n",
            "5 * 7 = 35\n",
            "5 * 8 = 40\n",
            "5 * 9 = 45\n",
            "\n",
            "6 * 1 = 6\n",
            "6 * 2 = 12\n",
            "6 * 3 = 18\n",
            "6 * 4 = 24\n",
            "6 * 5 = 30\n",
            "6 * 6 = 36\n",
            "6 * 7 = 42\n",
            "6 * 8 = 48\n",
            "6 * 9 = 54\n",
            "\n",
            "7 * 1 = 7\n",
            "7 * 2 = 14\n",
            "7 * 3 = 21\n",
            "7 * 4 = 28\n",
            "7 * 5 = 35\n",
            "7 * 6 = 42\n",
            "7 * 7 = 49\n",
            "7 * 8 = 56\n",
            "7 * 9 = 63\n",
            "\n",
            "8 * 1 = 8\n",
            "8 * 2 = 16\n",
            "8 * 3 = 24\n",
            "8 * 4 = 32\n",
            "8 * 5 = 40\n",
            "8 * 6 = 48\n",
            "8 * 7 = 56\n",
            "8 * 8 = 64\n",
            "8 * 9 = 72\n",
            "\n",
            "9 * 1 = 9\n",
            "9 * 2 = 18\n",
            "9 * 3 = 27\n",
            "9 * 4 = 36\n",
            "9 * 5 = 45\n",
            "9 * 6 = 54\n",
            "9 * 7 = 63\n",
            "9 * 8 = 72\n",
            "9 * 9 = 81\n",
            "\n"
          ]
        }
      ]
    },
    {
      "cell_type": "code",
      "source": [
        "# break문\n",
        "for i in range(10):\n",
        "    if i ==5:\n"
      ],
      "metadata": {
        "id": "1uk1inFbg5hF"
      },
      "execution_count": null,
      "outputs": []
    },
    {
      "cell_type": "code",
      "source": [
        "# continue문\n",
        "for i in range(10):\n",
        "    if i ==5:\n",
        "        continue\n",
        "    print(i)"
      ],
      "metadata": {
        "colab": {
          "base_uri": "https://localhost:8080/"
        },
        "id": "X_7-SmIuhGiJ",
        "outputId": "aafb1680-d9d4-48a3-c1f6-8ec0c32fb917"
      },
      "execution_count": null,
      "outputs": [
        {
          "output_type": "stream",
          "name": "stdout",
          "text": [
            "0\n",
            "1\n",
            "2\n",
            "3\n",
            "4\n",
            "6\n",
            "7\n",
            "8\n",
            "9\n"
          ]
        }
      ]
    },
    {
      "cell_type": "markdown",
      "source": [
        "#연습문제 156p. 서연 답안(7,9번 제외)\n",
        "* 1번: 2\n",
        "* 2번: 3\n",
        "* 3번: 4-\n",
        "* 4번: 3\n",
        "* 5번: 4, 5\n",
        "* 6번: 5\n",
        "* 7번: 1\n",
        "* 8번: 4-\n",
        "* 9번: 5\n",
        "* 10번: 2\n",
        "* 11번: 4\n",
        "* 12번: 2\n",
        "* 13번: 2\n",
        "* 14번: 1"
      ],
      "metadata": {
        "id": "wqzEyRFyNghO"
      }
    },
    {
      "cell_type": "code",
      "source": [
        "# 1번 문제\n",
        "year = int(input('나이를 입력하세요.: '))\n",
        "\n",
        "if 1 <= year <= 7:\n",
        "    print('아직 학교를 다닐 나이가 아닙니다. ')\n",
        "elif 8 <= year <= 13:\n",
        "    print('초등학생입니다. ')\n",
        "elif 14 <= year <= 16:\n",
        "    print('중학생입니다. ')\n",
        "elif 17 <= year <= 19:\n",
        "    print('고등학생입니다. ')\n",
        "elif 20 <= year:\n",
        "    print('성인입니다. ')\n",
        "else:\n",
        "    print('1부터의 정수를 입력해 주세요.')"
      ],
      "metadata": {
        "colab": {
          "base_uri": "https://localhost:8080/",
          "height": 243
        },
        "id": "uPgRP_OJOatq",
        "outputId": "4cc2c839-a3a6-4297-9602-b9e006903398"
      },
      "execution_count": null,
      "outputs": [
        {
          "name": "stdout",
          "output_type": "stream",
          "text": [
            "나이를 입력하세요.: ABC\n"
          ]
        },
        {
          "output_type": "error",
          "ename": "ValueError",
          "evalue": "invalid literal for int() with base 10: 'ABC'",
          "traceback": [
            "\u001b[0;31m---------------------------------------------------------------------------\u001b[0m",
            "\u001b[0;31mValueError\u001b[0m                                Traceback (most recent call last)",
            "\u001b[0;32m<ipython-input-49-bc54f6ce89a8>\u001b[0m in \u001b[0;36m<cell line: 1>\u001b[0;34m()\u001b[0m\n\u001b[0;32m----> 1\u001b[0;31m \u001b[0myear\u001b[0m \u001b[0;34m=\u001b[0m \u001b[0mint\u001b[0m\u001b[0;34m(\u001b[0m\u001b[0minput\u001b[0m\u001b[0;34m(\u001b[0m\u001b[0;34m'나이를 입력하세요.: '\u001b[0m\u001b[0;34m)\u001b[0m\u001b[0;34m)\u001b[0m\u001b[0;34m\u001b[0m\u001b[0;34m\u001b[0m\u001b[0m\n\u001b[0m\u001b[1;32m      2\u001b[0m \u001b[0;34m\u001b[0m\u001b[0m\n\u001b[1;32m      3\u001b[0m \u001b[0;32mif\u001b[0m \u001b[0;36m1\u001b[0m \u001b[0;34m<=\u001b[0m \u001b[0myear\u001b[0m \u001b[0;34m<=\u001b[0m \u001b[0;36m7\u001b[0m\u001b[0;34m:\u001b[0m\u001b[0;34m\u001b[0m\u001b[0;34m\u001b[0m\u001b[0m\n\u001b[1;32m      4\u001b[0m     \u001b[0mprint\u001b[0m\u001b[0;34m(\u001b[0m\u001b[0;34m'아직 학교를 다닐 나이가 아닙니다. '\u001b[0m\u001b[0;34m)\u001b[0m\u001b[0;34m\u001b[0m\u001b[0;34m\u001b[0m\u001b[0m\n\u001b[1;32m      5\u001b[0m \u001b[0;32melif\u001b[0m \u001b[0;36m8\u001b[0m \u001b[0;34m<=\u001b[0m \u001b[0myear\u001b[0m \u001b[0;34m<=\u001b[0m \u001b[0;36m13\u001b[0m\u001b[0;34m:\u001b[0m\u001b[0;34m\u001b[0m\u001b[0;34m\u001b[0m\u001b[0m\n",
            "\u001b[0;31mValueError\u001b[0m: invalid literal for int() with base 10: 'ABC'"
          ]
        }
      ]
    },
    {
      "cell_type": "code",
      "source": [
        "# 2번 문제\n",
        "for a in range(8):\n",
        "    a *= (a-1)\n",
        "print(a)"
      ],
      "metadata": {
        "colab": {
          "base_uri": "https://localhost:8080/"
        },
        "id": "n6Ui8JuvbGdI",
        "outputId": "0b532030-55af-475f-c80d-2bd645471203"
      },
      "execution_count": null,
      "outputs": [
        {
          "output_type": "stream",
          "name": "stdout",
          "text": [
            "42\n"
          ]
        }
      ]
    },
    {
      "cell_type": "code",
      "source": [
        "# 4번 문제\n",
        "t = '5'\n",
        "\n",
        "for n in range(int(t)):\n",
        "    print('t')"
      ],
      "metadata": {
        "colab": {
          "base_uri": "https://localhost:8080/"
        },
        "id": "esa-YXzPcFo3",
        "outputId": "7aa2e0f3-e863-480c-dff0-e6f619ce59a8"
      },
      "execution_count": null,
      "outputs": [
        {
          "output_type": "stream",
          "name": "stdout",
          "text": [
            "t\n",
            "t\n",
            "t\n",
            "t\n",
            "t\n"
          ]
        }
      ]
    },
    {
      "cell_type": "code",
      "source": [
        "# 6번 문제\n",
        "my_list = ['i', 'like', 'studying', 'python ']\n",
        "new_list = []\n",
        "i = len(my_list)\n",
        "if i == 4:\n",
        "    new_list.append (my_list[::2])\n",
        "print(new_list)"
      ],
      "metadata": {
        "colab": {
          "base_uri": "https://localhost:8080/"
        },
        "id": "zmfO7PW2eZxG",
        "outputId": "3b368e6e-8483-4253-af3c-c65f8ea3952e"
      },
      "execution_count": null,
      "outputs": [
        {
          "output_type": "stream",
          "name": "stdout",
          "text": [
            "[['i', 'studying']]\n"
          ]
        }
      ]
    },
    {
      "cell_type": "code",
      "source": [
        "# 7번 문제\n",
        "num =[1,2,3,4,5,6]\n",
        "total = 1\n",
        "for n in num:\n",
        "    total = n * n"
      ],
      "metadata": {
        "id": "H1pvGkblgJJv"
      },
      "execution_count": null,
      "outputs": []
    },
    {
      "cell_type": "code",
      "source": [
        "# 10번 문제\n",
        "numbers = ['10', '11', '12', '13', '14', '15', '16', '17']\n",
        "total = 0\n",
        "for number in numbers:\n",
        "    if int(number) %5 == 0:\n",
        "        total += int(number)\n",
        "    else:\n",
        "        total += 10\n",
        "print(total)"
      ],
      "metadata": {
        "colab": {
          "base_uri": "https://localhost:8080/"
        },
        "id": "_9MmuOdYjdbI",
        "outputId": "8b27b01d-662d-4b5d-882d-f36bb6feba28"
      },
      "execution_count": null,
      "outputs": [
        {
          "output_type": "stream",
          "name": "stdout",
          "text": [
            "85\n"
          ]
        }
      ]
    },
    {
      "cell_type": "code",
      "source": [
        "money = 1500\n",
        "snack = 500\n",
        "water = 1000\n",
        "while money != 0:\n",
        "    if money > 1000:\n",
        "        money -= water\n",
        "    elif 0 <money <= 1000:\n",
        "        money -= snack * 2\n",
        "    else:\n",
        "        money = money + 500\n",
        "print(money)"
      ],
      "metadata": {
        "colab": {
          "base_uri": "https://localhost:8080/"
        },
        "id": "jHFvhgGjkzML",
        "outputId": "ad75b8aa-dadf-4f1e-8223-8e226c354639"
      },
      "execution_count": null,
      "outputs": [
        {
          "output_type": "stream",
          "name": "stdout",
          "text": [
            "0\n"
          ]
        }
      ]
    },
    {
      "cell_type": "code",
      "source": [
        "# 13번 문제\n",
        "list_data_a =[1, 2]\n",
        "list_data_b =[3, 4]\n",
        "for i in list_data_a:\n",
        "    for j in list_data_b:\n",
        "        result = i + j\n",
        "print(result)"
      ],
      "metadata": {
        "colab": {
          "base_uri": "https://localhost:8080/"
        },
        "id": "t8kts-t8ln-h",
        "outputId": "41578559-a7e8-41c7-d90d-f518db7533f3"
      },
      "execution_count": null,
      "outputs": [
        {
          "output_type": "stream",
          "name": "stdout",
          "text": [
            "6\n"
          ]
        }
      ]
    },
    {
      "cell_type": "code",
      "source": [
        "list_1 = [[1,2], [3], [4,5,6]]\n",
        "a,b,c = list_1\n",
        "list_2 = a + b + c\n",
        "print(list_2)"
      ],
      "metadata": {
        "colab": {
          "base_uri": "https://localhost:8080/"
        },
        "id": "Wsv2LsjMmBUB",
        "outputId": "dbd90766-11a4-464e-a47b-af8f52f5d412"
      },
      "execution_count": null,
      "outputs": [
        {
          "output_type": "stream",
          "name": "stdout",
          "text": [
            "[1, 2, 3, 4, 5, 6]\n"
          ]
        }
      ]
    }
  ]
}