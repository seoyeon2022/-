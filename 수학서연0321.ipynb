{
  "nbformat": 4,
  "nbformat_minor": 0,
  "metadata": {
    "colab": {
      "provenance": [],
      "toc_visible": true,
      "authorship_tag": "ABX9TyNcSi4ZZWsILEFwFoC9CyjT",
      "include_colab_link": true
    },
    "kernelspec": {
      "name": "python3",
      "display_name": "Python 3"
    },
    "language_info": {
      "name": "python"
    }
  },
  "cells": [
    {
      "cell_type": "markdown",
      "metadata": {
        "id": "view-in-github",
        "colab_type": "text"
      },
      "source": [
        "<a href=\"https://colab.research.google.com/github/seoyeon2022/_-py/blob/main/%EC%88%98%ED%95%99%EC%84%9C%EC%97%B00321.ipynb\" target=\"_parent\"><img src=\"https://colab.research.google.com/assets/colab-badge.svg\" alt=\"Open In Colab\"/></a>"
      ]
    },
    {
      "cell_type": "markdown",
      "source": [
        "# 리스트\n",
        "* 인덱싱\n",
        "* 슬라이싱\n",
        "* 연결연산자, 반복연산자, 포함연산자\n",
        "* 추가, 삭제"
      ],
      "metadata": {
        "id": "T2E9wPmXAw-h"
      }
    },
    {
      "cell_type": "code",
      "execution_count": null,
      "metadata": {
        "colab": {
          "base_uri": "https://localhost:8080/"
        },
        "id": "uajMcQb4-Uei",
        "outputId": "504ebcf0-d01c-49a4-e6c7-dda12e7e8c9a"
      },
      "outputs": [
        {
          "output_type": "stream",
          "name": "stdout",
          "text": [
            "10\n",
            "50\n",
            "5\n",
            "50\n"
          ]
        }
      ],
      "source": [
        "numList = [10,20,30,40,50]\n",
        "print(numList[0])\n",
        "print(numList[-1])\n",
        "print(len(numList))\n",
        "print(numList[len(numList)-1])"
      ]
    },
    {
      "cell_type": "code",
      "source": [
        "numList = [10,20,30,40,50]\n",
        "print(numList[:])\n",
        "print(numList[1:])\n",
        "print(numList[1:4]) #1이상 4미만의 요소들만 추출\n",
        "print(numList[1:4:2])\n",
        "print(numList[::-1])\n",
        "print(numList[::-2])"
      ],
      "metadata": {
        "colab": {
          "base_uri": "https://localhost:8080/"
        },
        "id": "9q0qyhL9IUWV",
        "outputId": "27e623e9-50b2-4cc6-af40-e8690987dd14"
      },
      "execution_count": null,
      "outputs": [
        {
          "output_type": "stream",
          "name": "stdout",
          "text": [
            "[10, 20, 30, 40, 50]\n",
            "[20, 30, 40, 50]\n",
            "[20, 30, 40]\n",
            "[20, 40]\n",
            "[50, 40, 30, 20, 10]\n",
            "[50, 30, 10]\n"
          ]
        }
      ]
    },
    {
      "cell_type": "code",
      "source": [
        "numList = [10,20,30,40,50]\n",
        "nameList = ['kim', 'park']\n",
        "print(nameList + numList)\n",
        "print(len(nameList) + len(numList))"
      ],
      "metadata": {
        "colab": {
          "base_uri": "https://localhost:8080/"
        },
        "id": "nxKQxD6hMZzJ",
        "outputId": "2c2f9cee-76ce-428b-963b-f3cb2b5eb609"
      },
      "execution_count": null,
      "outputs": [
        {
          "output_type": "stream",
          "name": "stdout",
          "text": [
            "['kim', 'park', 10, 20, 30, 40, 50]\n",
            "7\n"
          ]
        }
      ]
    },
    {
      "cell_type": "code",
      "source": [
        "numList = [10,20,30,40,50]\n",
        "nameList = ['kim', 'park']\n",
        "totalList = numList + nameList\n",
        "print(totalList)\n",
        "print(totalList[5])\n",
        "print(totalList[4:6])\n",
        "print(totalList[-1])\n",
        "print(totalList[::-1])\n",
        "print(totalList[::-3])"
      ],
      "metadata": {
        "colab": {
          "base_uri": "https://localhost:8080/"
        },
        "id": "KaucB6DDNL_m",
        "outputId": "68a231e4-71b3-470a-a8f8-d08b5bdcb0c3"
      },
      "execution_count": null,
      "outputs": [
        {
          "output_type": "stream",
          "name": "stdout",
          "text": [
            "[10, 20, 30, 40, 50, 'kim', 'park']\n",
            "kim\n",
            "[50, 'kim']\n",
            "park\n",
            "['park', 'kim', 50, 40, 30, 20, 10]\n",
            "['park', 40, 10]\n"
          ]
        }
      ]
    },
    {
      "cell_type": "code",
      "source": [
        "nameList = ['kim', 'park']\n",
        "print(nameList*3)"
      ],
      "metadata": {
        "colab": {
          "base_uri": "https://localhost:8080/"
        },
        "id": "wwsH68FuN-xX",
        "outputId": "84701555-44cb-49cd-d5c7-793d9ed028e6"
      },
      "execution_count": null,
      "outputs": [
        {
          "output_type": "stream",
          "name": "stdout",
          "text": [
            "['kim', 'park', 'kim', 'park', 'kim', 'park']\n"
          ]
        }
      ]
    },
    {
      "cell_type": "code",
      "source": [
        "# 포함연산자(in, not in)\n",
        "nameList = ['kim', 'park']\n",
        "print('kim' in nameList)\n",
        "print('kim' not in nameList)\n",
        "print('lee' in nameList)\n",
        "print('lee' not in nameList)"
      ],
      "metadata": {
        "colab": {
          "base_uri": "https://localhost:8080/"
        },
        "id": "eE-9H1FPOsE3",
        "outputId": "dbe3a092-dce7-4dd9-f337-3fb91a149bbd"
      },
      "execution_count": null,
      "outputs": [
        {
          "output_type": "stream",
          "name": "stdout",
          "text": [
            "True\n",
            "False\n",
            "False\n",
            "True\n"
          ]
        }
      ]
    },
    {
      "cell_type": "code",
      "source": [
        "nameList = ['kim', 'park']\n",
        "nameList.append('kang')\n",
        "print(nameList)"
      ],
      "metadata": {
        "colab": {
          "base_uri": "https://localhost:8080/"
        },
        "id": "Y626qgGTPN0C",
        "outputId": "d35e7779-2a9a-4394-aef4-62f83811fe48"
      },
      "execution_count": null,
      "outputs": [
        {
          "output_type": "stream",
          "name": "stdout",
          "text": [
            "['kim', 'park', 'kang']\n"
          ]
        }
      ]
    },
    {
      "cell_type": "code",
      "source": [
        "# None\n",
        "nameList = ['kim', 'park']\n",
        "print(nameList.append('kang'))"
      ],
      "metadata": {
        "colab": {
          "base_uri": "https://localhost:8080/"
        },
        "id": "GrIfOdacQAZr",
        "outputId": "21fce197-fcbe-42e1-81de-77aa1943d0eb"
      },
      "execution_count": null,
      "outputs": [
        {
          "output_type": "stream",
          "name": "stdout",
          "text": [
            "None\n"
          ]
        }
      ]
    },
    {
      "cell_type": "code",
      "source": [
        "#시험 예시\n",
        "nameList  ['kim', 'park']\n",
        "nameList.extend(['kang'])\n",
        "print(nameList)"
      ],
      "metadata": {
        "colab": {
          "base_uri": "https://localhost:8080/"
        },
        "id": "RwNA504lEpyA",
        "outputId": "de93ea9d-777b-4e3a-b485-e1c981d2f5c3"
      },
      "execution_count": null,
      "outputs": [
        {
          "output_type": "stream",
          "name": "stdout",
          "text": [
            "['kim', 'park', 'kang']\n"
          ]
        }
      ]
    },
    {
      "cell_type": "code",
      "source": [
        "#예시2 (옳지 않은 코드)\n",
        "nameList = ['kim', 'park']\n",
        "nameList.insert(1,'kang')\n",
        "print(nameList)"
      ],
      "metadata": {
        "colab": {
          "base_uri": "https://localhost:8080/"
        },
        "id": "pqUR2GpLE5VR",
        "outputId": "c28bed4a-04a5-41d8-fb95-b38b7cb4d064"
      },
      "execution_count": null,
      "outputs": [
        {
          "output_type": "stream",
          "name": "stdout",
          "text": [
            "['kim', 'kang', 'park']\n"
          ]
        }
      ]
    },
    {
      "cell_type": "code",
      "source": [
        "numList = [100,20,350,40,150]\n",
        "numList.sort()\n",
        "print(numList)"
      ],
      "metadata": {
        "colab": {
          "base_uri": "https://localhost:8080/"
        },
        "id": "-4AECOkeQP31",
        "outputId": "610318cb-e24c-402c-9ab4-a4daf4a444cc"
      },
      "execution_count": null,
      "outputs": [
        {
          "output_type": "stream",
          "name": "stdout",
          "text": [
            "[20, 40, 100, 150, 350]\n"
          ]
        }
      ]
    },
    {
      "cell_type": "code",
      "source": [
        "# None\n",
        "numList = [100,20,350,40,150]\n",
        "print(numList.sort())"
      ],
      "metadata": {
        "colab": {
          "base_uri": "https://localhost:8080/"
        },
        "id": "S8Yz92v-Qdur",
        "outputId": "2bccd0fd-ba83-4846-e188-e2f0374d4759"
      },
      "execution_count": null,
      "outputs": [
        {
          "output_type": "stream",
          "name": "stdout",
          "text": [
            "None\n"
          ]
        }
      ]
    },
    {
      "cell_type": "code",
      "source": [
        "print(len(nameList))"
      ],
      "metadata": {
        "colab": {
          "base_uri": "https://localhost:8080/"
        },
        "id": "Kl85mK7SRZDx",
        "outputId": "85078442-d934-4754-cdf6-48f5413d409d"
      },
      "execution_count": null,
      "outputs": [
        {
          "output_type": "stream",
          "name": "stdout",
          "text": [
            "3\n"
          ]
        }
      ]
    },
    {
      "cell_type": "code",
      "source": [
        "nameList = ['kim', 'park', 'kang']\n",
        "nameList.insert(1,'lee')\n",
        "print(nameList)"
      ],
      "metadata": {
        "colab": {
          "base_uri": "https://localhost:8080/"
        },
        "id": "O7R_X-XWRieM",
        "outputId": "bf0f77a1-570f-41dc-9d9b-38e260d5ac91"
      },
      "execution_count": null,
      "outputs": [
        {
          "output_type": "stream",
          "name": "stdout",
          "text": [
            "['kim', 'lee', 'park', 'kang']\n"
          ]
        }
      ]
    },
    {
      "cell_type": "code",
      "source": [
        "nameList = ['lee', 'kim', 'park', 'kang']\n",
        "numList = [10,20,30]\n",
        "nameList.extend(numList)\n",
        "print(nameList)"
      ],
      "metadata": {
        "colab": {
          "base_uri": "https://localhost:8080/"
        },
        "id": "4pp_qwa8S8bL",
        "outputId": "9d258340-163c-42b8-cb94-c6f0f9da4ab7"
      },
      "execution_count": null,
      "outputs": [
        {
          "output_type": "stream",
          "name": "stdout",
          "text": [
            "['lee', 'kim', 'park', 'kang', 10, 20, 30]\n"
          ]
        }
      ]
    },
    {
      "cell_type": "code",
      "source": [
        "nameList = ['lee', 'kim', 'park', 'kang']\n",
        "numList = [10,20,30]\n",
        "numList.extend(nameList)\n",
        "print(numList)"
      ],
      "metadata": {
        "colab": {
          "base_uri": "https://localhost:8080/"
        },
        "id": "ydr26IFWSF0M",
        "outputId": "0c623175-a2f9-4394-f433-2bb3e97bd4e9"
      },
      "execution_count": null,
      "outputs": [
        {
          "output_type": "stream",
          "name": "stdout",
          "text": [
            "[10, 20, 30, 'lee', 'kim', 'park', 'kang']\n"
          ]
        }
      ]
    },
    {
      "cell_type": "code",
      "source": [
        "numList = [10, 20, 30, 'lee', 'kim', 'park', 'kang']\n",
        "numList.remove('lee')\n",
        "print(numList)"
      ],
      "metadata": {
        "colab": {
          "base_uri": "https://localhost:8080/"
        },
        "id": "VAztkFKmTFAA",
        "outputId": "c5c20514-2cab-4af1-f509-47c48ea81af7"
      },
      "execution_count": null,
      "outputs": [
        {
          "output_type": "stream",
          "name": "stdout",
          "text": [
            "[10, 20, 30, 'kim', 'park', 'kang']\n"
          ]
        }
      ]
    },
    {
      "cell_type": "code",
      "source": [
        "numList = [10, 20, 30, 'kim', 'park', 'kang']\n",
        "numList[3] = 'cha'\n",
        "print(numList)"
      ],
      "metadata": {
        "colab": {
          "base_uri": "https://localhost:8080/"
        },
        "id": "uatkyYZuTfJO",
        "outputId": "90f0138f-2589-4a13-93bc-25f755da936a"
      },
      "execution_count": null,
      "outputs": [
        {
          "output_type": "stream",
          "name": "stdout",
          "text": [
            "[10, 20, 30, 'cha', 'park', 'kang']\n"
          ]
        }
      ]
    },
    {
      "cell_type": "code",
      "source": [
        "numList = [10, 20, 30, 'cha', 'park', 'kang']\n",
        "del numList[3]\n",
        "print(numList)"
      ],
      "metadata": {
        "colab": {
          "base_uri": "https://localhost:8080/"
        },
        "id": "ZHWKF0b7TtpJ",
        "outputId": "086f90bd-4818-4850-e082-f3036057de93"
      },
      "execution_count": null,
      "outputs": [
        {
          "output_type": "stream",
          "name": "stdout",
          "text": [
            "[10, 20, 30, 'park', 'kang']\n"
          ]
        }
      ]
    },
    {
      "cell_type": "code",
      "source": [
        "print(numList)\n",
        "del numList"
      ],
      "metadata": {
        "colab": {
          "base_uri": "https://localhost:8080/"
        },
        "id": "rlyDKkI1UcX0",
        "outputId": "bbbbe37e-b3af-4c62-c97e-864deab98b81"
      },
      "execution_count": null,
      "outputs": [
        {
          "output_type": "stream",
          "name": "stdout",
          "text": [
            "[10, 20, 30, 'cha', 'park', 'kang']\n"
          ]
        }
      ]
    },
    {
      "cell_type": "code",
      "source": [
        "# NameError: name 'numList' is not defined\n",
        "del numList\n",
        "print(numList)"
      ],
      "metadata": {
        "colab": {
          "base_uri": "https://localhost:8080/",
          "height": 168
        },
        "id": "d9AQSLtzUGEi",
        "outputId": "faa80c23-4112-45f3-bb74-1ceecfbce76d"
      },
      "execution_count": null,
      "outputs": [
        {
          "output_type": "error",
          "ename": "NameError",
          "evalue": "name 'numList' is not defined",
          "traceback": [
            "\u001b[0;31m---------------------------------------------------------------------------\u001b[0m",
            "\u001b[0;31mNameError\u001b[0m                                 Traceback (most recent call last)",
            "\u001b[0;32m<ipython-input-11-f6cf03bc9f78>\u001b[0m in \u001b[0;36m<cell line: 2>\u001b[0;34m()\u001b[0m\n\u001b[1;32m      1\u001b[0m \u001b[0;32mdel\u001b[0m \u001b[0mnumList\u001b[0m\u001b[0;34m\u001b[0m\u001b[0;34m\u001b[0m\u001b[0m\n\u001b[0;32m----> 2\u001b[0;31m \u001b[0mprint\u001b[0m\u001b[0;34m(\u001b[0m\u001b[0mnumList\u001b[0m\u001b[0;34m)\u001b[0m\u001b[0;34m\u001b[0m\u001b[0;34m\u001b[0m\u001b[0m\n\u001b[0m",
            "\u001b[0;31mNameError\u001b[0m: name 'numList' is not defined"
          ]
        }
      ]
    },
    {
      "cell_type": "code",
      "source": [
        "nameList = ['kim', 'park'] #패킹\n",
        "name1, name2 = nameList #언패킹\n",
        "print(name1, name2)"
      ],
      "metadata": {
        "colab": {
          "base_uri": "https://localhost:8080/"
        },
        "id": "CFe_u6aIVpjN",
        "outputId": "155aa3c3-780b-4ecb-fb98-1b8eb501aa8e"
      },
      "execution_count": null,
      "outputs": [
        {
          "output_type": "stream",
          "name": "stdout",
          "text": [
            "kim park\n"
          ]
        }
      ]
    },
    {
      "cell_type": "code",
      "source": [
        "# ValueError: not enough values to unpack (expected 3, got 2)\n",
        "nameList = ['kim', 'park'] #패킹\n",
        "name1, name2, name3 = nameList #언패킹\n",
        "print(name1, name2, name3)"
      ],
      "metadata": {
        "colab": {
          "base_uri": "https://localhost:8080/",
          "height": 187
        },
        "id": "YTH3mWHgWJoL",
        "outputId": "a07b513b-82f0-4608-e622-2ae4c2abfabd"
      },
      "execution_count": null,
      "outputs": [
        {
          "output_type": "error",
          "ename": "ValueError",
          "evalue": "not enough values to unpack (expected 3, got 2)",
          "traceback": [
            "\u001b[0;31m---------------------------------------------------------------------------\u001b[0m",
            "\u001b[0;31mValueError\u001b[0m                                Traceback (most recent call last)",
            "\u001b[0;32m<ipython-input-3-4dfd97f5aea7>\u001b[0m in \u001b[0;36m<cell line: 2>\u001b[0;34m()\u001b[0m\n\u001b[1;32m      1\u001b[0m \u001b[0mnameList\u001b[0m \u001b[0;34m=\u001b[0m \u001b[0;34m[\u001b[0m\u001b[0;34m'kim'\u001b[0m\u001b[0;34m,\u001b[0m \u001b[0;34m'park'\u001b[0m\u001b[0;34m]\u001b[0m \u001b[0;31m#패킹\u001b[0m\u001b[0;34m\u001b[0m\u001b[0;34m\u001b[0m\u001b[0m\n\u001b[0;32m----> 2\u001b[0;31m \u001b[0mname1\u001b[0m\u001b[0;34m,\u001b[0m \u001b[0mname2\u001b[0m\u001b[0;34m,\u001b[0m \u001b[0mname3\u001b[0m \u001b[0;34m=\u001b[0m \u001b[0mnameList\u001b[0m \u001b[0;31m#언패킹\u001b[0m\u001b[0;34m\u001b[0m\u001b[0;34m\u001b[0m\u001b[0m\n\u001b[0m\u001b[1;32m      3\u001b[0m \u001b[0mprint\u001b[0m\u001b[0;34m(\u001b[0m\u001b[0mname1\u001b[0m\u001b[0;34m,\u001b[0m \u001b[0mname2\u001b[0m\u001b[0;34m,\u001b[0m \u001b[0mname3\u001b[0m\u001b[0;34m)\u001b[0m\u001b[0;34m\u001b[0m\u001b[0;34m\u001b[0m\u001b[0m\n",
            "\u001b[0;31mValueError\u001b[0m: not enough values to unpack (expected 3, got 2)"
          ]
        }
      ]
    },
    {
      "cell_type": "code",
      "source": [
        "nameList = ['kim', 'park', 'lee']\n",
        "print(id(nameList))"
      ],
      "metadata": {
        "colab": {
          "base_uri": "https://localhost:8080/"
        },
        "id": "csZONasbaBWf",
        "outputId": "ca61fcd0-c298-4fd8-c700-e81cf643d14a"
      },
      "execution_count": null,
      "outputs": [
        {
          "output_type": "stream",
          "name": "stdout",
          "text": [
            "139437606582400\n"
          ]
        }
      ]
    },
    {
      "cell_type": "code",
      "source": [
        "print(id(nameList[0]))\n",
        "print(id(nameList[1]))\n",
        "print(id(nameList[2]))"
      ],
      "metadata": {
        "colab": {
          "base_uri": "https://localhost:8080/"
        },
        "id": "hpjcEgOJaUe9",
        "outputId": "be889614-d146-49cb-8f67-97150c14a86a"
      },
      "execution_count": null,
      "outputs": [
        {
          "output_type": "stream",
          "name": "stdout",
          "text": [
            "139437882397232\n",
            "139437882397360\n",
            "139437607051888\n"
          ]
        }
      ]
    },
    {
      "cell_type": "code",
      "source": [
        "a = 300\n",
        "b = 300\n",
        "print(a is b) #a와 b의 주소 위치 다르므로 false\n",
        "print(id(a))\n",
        "print(id(b))\n",
        "print(a == b) # a와 b의 값은 같다 True"
      ],
      "metadata": {
        "colab": {
          "base_uri": "https://localhost:8080/"
        },
        "id": "c9yalCnAah-i",
        "outputId": "7f5f8320-4fa1-4293-8ce3-ad9fbb8c521a"
      },
      "execution_count": null,
      "outputs": [
        {
          "output_type": "stream",
          "name": "stdout",
          "text": [
            "False\n",
            "139437032619088\n",
            "139437032618096\n",
            "True\n"
          ]
        }
      ]
    },
    {
      "cell_type": "code",
      "source": [
        "kor_score = [49, 79, 20, 100, 80]\n",
        "math_score = [43, 59, 85, 30, 90]\n",
        "eng_score = [49, 79,48, 60, 100]\n",
        "\n",
        "midterm_score = [kor_score, math_score, eng_score]\n",
        "print(midterm_score)\n",
        "\n",
        "math_score[0] = 1000\n",
        "print(midterm_score)"
      ],
      "metadata": {
        "colab": {
          "base_uri": "https://localhost:8080/"
        },
        "id": "bi-h6CB8fX5T",
        "outputId": "b7280df3-a8af-42c3-b9ff-ef3b5692b235"
      },
      "execution_count": null,
      "outputs": [
        {
          "output_type": "stream",
          "name": "stdout",
          "text": [
            "[[49, 79, 20, 100, 80], [43, 59, 85, 30, 90], [49, 79, 48, 60, 100]]\n",
            "[[49, 79, 20, 100, 80], [1000, 59, 85, 30, 90], [49, 79, 48, 60, 100]]\n"
          ]
        }
      ]
    },
    {
      "cell_type": "code",
      "source": [
        "a = [\"color\", 1, 0.2]\n",
        "color = ['노랑', '파랑', '초록', '검정', '보라']\n",
        "a[0] = color # 리스트 안에 리스트도 입력 가능\n",
        "print(a)"
      ],
      "metadata": {
        "colab": {
          "base_uri": "https://localhost:8080/"
        },
        "id": "ld89ozJlb3cP",
        "outputId": "0b624b46-77f1-429e-d17f-6ff06ccb7a4c"
      },
      "execution_count": null,
      "outputs": [
        {
          "output_type": "stream",
          "name": "stdout",
          "text": [
            "[['노랑', '파랑', '초록', '검정', '보라'], 1, 0.2]\n"
          ]
        }
      ]
    },
    {
      "cell_type": "code",
      "source": [
        "# 3장 연습문제 1번\n",
        "a = [1]\n",
        "b = ['a', 'b', 'c']\n",
        "b[1] = a[0]\n",
        "print(b)"
      ],
      "metadata": {
        "colab": {
          "base_uri": "https://localhost:8080/"
        },
        "id": "jYzI_DEYdm8p",
        "outputId": "84421add-4b3f-4f37-ed1f-4d5a785614ce"
      },
      "execution_count": null,
      "outputs": [
        {
          "output_type": "stream",
          "name": "stdout",
          "text": [
            "['a', 1, 'c']\n"
          ]
        }
      ]
    }
  ]
}