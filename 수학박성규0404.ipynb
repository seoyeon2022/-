{
  "nbformat": 4,
  "nbformat_minor": 0,
  "metadata": {
    "colab": {
      "provenance": [],
      "include_colab_link": true
    },
    "kernelspec": {
      "name": "python3",
      "display_name": "Python 3"
    },
    "language_info": {
      "name": "python"
    }
  },
  "cells": [
    {
      "cell_type": "markdown",
      "metadata": {
        "id": "view-in-github",
        "colab_type": "text"
      },
      "source": [
        "<a href=\"https://colab.research.google.com/github/seoyeon2022/_-py/blob/main/%EC%88%98%ED%95%99%EB%B0%95%EC%84%B1%EA%B7%9C0404.ipynb\" target=\"_parent\"><img src=\"https://colab.research.google.com/assets/colab-badge.svg\" alt=\"Open In Colab\"/></a>"
      ]
    },
    {
      "cell_type": "markdown",
      "source": [
        "# 함수\n",
        "* def 함수 이름 (매개변수):\n",
        "* (들여쓰기) 명령어\n",
        "* (들여쓰기) 명령어\n",
        "* return \"반환값\"\n",
        "\n",
        "# 함수 function\n",
        "* 내장함수 print(), input(), range()\n",
        "* 모듈 random, time\n",
        "* 사용자 정의 함수"
      ],
      "metadata": {
        "id": "3hRLY6tEoKA0"
      }
    },
    {
      "cell_type": "code",
      "execution_count": null,
      "metadata": {
        "id": "QwUqFqQ-oEiY"
      },
      "outputs": [],
      "source": [
        "# 상용자 정의함수 정의\n",
        "def 함수이름 (매개변수):\n",
        "    실행문1\n",
        "    실행문2\n",
        "    return \"반환값\""
      ]
    },
    {
      "cell_type": "code",
      "source": [
        "# 함수 정의부\n",
        "def my_function(a,b):\n",
        "    print(a+b)\n",
        "\n",
        "\n",
        "#함수 호출부\n",
        "my_function(2,3)"
      ],
      "metadata": {
        "colab": {
          "base_uri": "https://localhost:8080/"
        },
        "id": "5cX7UaHXqDrh",
        "outputId": "c3da7605-7882-43c8-84fa-eb53f8e9af08"
      },
      "execution_count": null,
      "outputs": [
        {
          "output_type": "stream",
          "name": "stdout",
          "text": [
            "5\n"
          ]
        }
      ]
    },
    {
      "cell_type": "code",
      "source": [
        "print(my_function(2,3))"
      ],
      "metadata": {
        "colab": {
          "base_uri": "https://localhost:8080/"
        },
        "id": "AjqnhXIzqiD1",
        "outputId": "edce2818-fd73-4dbe-da74-49f097bae1ca"
      },
      "execution_count": null,
      "outputs": [
        {
          "output_type": "stream",
          "name": "stdout",
          "text": [
            "5\n",
            "None\n"
          ]
        }
      ]
    },
    {
      "cell_type": "code",
      "source": [
        "def my_function(a,b):\n",
        "    sum = a + b\n",
        "    return sum\n",
        "\n",
        "print(my_function(2,3)) # 반환값이 존재하니까"
      ],
      "metadata": {
        "colab": {
          "base_uri": "https://localhost:8080/"
        },
        "id": "3QuHa0bcrUPS",
        "outputId": "3bc81ce5-fb29-4dee-b405-61555b2f7a77"
      },
      "execution_count": null,
      "outputs": [
        {
          "output_type": "stream",
          "name": "stdout",
          "text": [
            "5\n"
          ]
        }
      ]
    },
    {
      "cell_type": "code",
      "source": [
        "def my_function():\n",
        "    sum = a + b\n",
        "    return sum\n",
        "\n",
        "print(my_function(2,3))"
      ],
      "metadata": {
        "colab": {
          "base_uri": "https://localhost:8080/",
          "height": 182
        },
        "id": "lghHPPsqrig2",
        "outputId": "09966884-6e4c-4a37-b216-bb0e32e2391d"
      },
      "execution_count": null,
      "outputs": [
        {
          "output_type": "error",
          "ename": "TypeError",
          "evalue": "my_function() takes 0 positional arguments but 2 were given",
          "traceback": [
            "\u001b[0;31m---------------------------------------------------------------------------\u001b[0m",
            "\u001b[0;31mTypeError\u001b[0m                                 Traceback (most recent call last)",
            "\u001b[0;32m<ipython-input-10-7dbea970ac32>\u001b[0m in \u001b[0;36m<cell line: 5>\u001b[0;34m()\u001b[0m\n\u001b[1;32m      3\u001b[0m     \u001b[0;32mreturn\u001b[0m \u001b[0msum\u001b[0m\u001b[0;34m\u001b[0m\u001b[0;34m\u001b[0m\u001b[0m\n\u001b[1;32m      4\u001b[0m \u001b[0;34m\u001b[0m\u001b[0m\n\u001b[0;32m----> 5\u001b[0;31m \u001b[0mprint\u001b[0m\u001b[0;34m(\u001b[0m\u001b[0mmy_function\u001b[0m\u001b[0;34m(\u001b[0m\u001b[0;36m2\u001b[0m\u001b[0;34m,\u001b[0m\u001b[0;36m3\u001b[0m\u001b[0;34m)\u001b[0m\u001b[0;34m)\u001b[0m\u001b[0;34m\u001b[0m\u001b[0;34m\u001b[0m\u001b[0m\n\u001b[0m",
            "\u001b[0;31mTypeError\u001b[0m: my_function() takes 0 positional arguments but 2 were given"
          ]
        }
      ]
    },
    {
      "cell_type": "code",
      "source": [
        "def my_function():\n",
        "    sum = 2+3\n",
        "    return sum\n",
        "\n",
        "print(my_function())"
      ],
      "metadata": {
        "colab": {
          "base_uri": "https://localhost:8080/"
        },
        "id": "rMWPyG3Zrpup",
        "outputId": "16a98860-9402-4d6e-c96a-348cd3b60917"
      },
      "execution_count": null,
      "outputs": [
        {
          "output_type": "stream",
          "name": "stdout",
          "text": [
            "5\n"
          ]
        }
      ]
    },
    {
      "cell_type": "code",
      "source": [
        "def my_function(a,b=3):\n",
        "    sum = a+b\n",
        "    return sum\n",
        "\n",
        "print(my_function(10))"
      ],
      "metadata": {
        "colab": {
          "base_uri": "https://localhost:8080/"
        },
        "id": "Z2W5cdUxr0B5",
        "outputId": "f34728d7-8656-4785-d763-6a47efadd65b"
      },
      "execution_count": null,
      "outputs": [
        {
          "output_type": "stream",
          "name": "stdout",
          "text": [
            "13\n"
          ]
        }
      ]
    },
    {
      "cell_type": "code",
      "source": [
        "def my_function(a,b=3):\n",
        "    sum = a+b\n",
        "    return sum\n",
        "\n",
        "print(my_function(20))"
      ],
      "metadata": {
        "colab": {
          "base_uri": "https://localhost:8080/"
        },
        "id": "yy2fAcI2r_7s",
        "outputId": "fce445e6-480e-4244-8328-ef3da23ef40c"
      },
      "execution_count": null,
      "outputs": [
        {
          "output_type": "stream",
          "name": "stdout",
          "text": [
            "23\n"
          ]
        }
      ]
    },
    {
      "cell_type": "code",
      "source": [
        "#  non-default argument follows default argument\n",
        "\n",
        "def my_function(a=3,b):\n",
        "    sum = a+b\n",
        "    return sum\n",
        "\n",
        "print(my_function(20))"
      ],
      "metadata": {
        "colab": {
          "base_uri": "https://localhost:8080/",
          "height": 110
        },
        "id": "sAQkHdgZsF9P",
        "outputId": "db958589-c8c0-418c-f3ec-90948a6a79d5"
      },
      "execution_count": null,
      "outputs": [
        {
          "output_type": "error",
          "ename": "SyntaxError",
          "evalue": "non-default argument follows default argument (<ipython-input-17-72ac93cb2e79>, line 1)",
          "traceback": [
            "\u001b[0;36m  File \u001b[0;32m\"<ipython-input-17-72ac93cb2e79>\"\u001b[0;36m, line \u001b[0;32m1\u001b[0m\n\u001b[0;31m    def my_function(a=3,b):\u001b[0m\n\u001b[0m                        ^\u001b[0m\n\u001b[0;31mSyntaxError\u001b[0m\u001b[0;31m:\u001b[0m non-default argument follows default argument\n"
          ]
        }
      ]
    },
    {
      "cell_type": "code",
      "source": [
        "# 가로, 세로의 길이가 각각 10, 3이 되는 직사각형의 넓이를 구하는 프로그램을 작성하시오, (단 함수이름은 \"rec_area\"로 하고, 반환값이 존재한다.)\n",
        "# 마지막에는 구한 직사각형의 넓이에 100을 더한값을 출력하시오\n",
        "# 함수정의 부분\n",
        "def rec_area(a,b):\n",
        "    return a*b\n",
        "\n",
        "\n",
        "#함수 호출 부분\n",
        "result = rec_area(10,3)\n",
        "print(f\"직사각형의 넓이는 {result} 이다.\")\n",
        "print(result+100)"
      ],
      "metadata": {
        "colab": {
          "base_uri": "https://localhost:8080/"
        },
        "id": "FnqJ-5pluNaC",
        "outputId": "40fdd27c-5727-4138-df93-5a535d779e05"
      },
      "execution_count": null,
      "outputs": [
        {
          "output_type": "stream",
          "name": "stdout",
          "text": [
            "직사각형의 넓이는 30 이다.\n",
            "130\n"
          ]
        }
      ]
    },
    {
      "cell_type": "code",
      "source": [
        "aList = [10,3,5]\n",
        "print(aList.append(7))"
      ],
      "metadata": {
        "colab": {
          "base_uri": "https://localhost:8080/"
        },
        "id": "G9BeMV-CvooJ",
        "outputId": "49e81520-efed-4857-b337-918fbc93d30b"
      },
      "execution_count": null,
      "outputs": [
        {
          "output_type": "stream",
          "name": "stdout",
          "text": [
            "None\n"
          ]
        }
      ]
    },
    {
      "cell_type": "code",
      "source": [
        "aList = [10,3,5]\n",
        "aList.append(7)\n",
        "print(aList)"
      ],
      "metadata": {
        "colab": {
          "base_uri": "https://localhost:8080/"
        },
        "id": "4H6gLN3QwA8U",
        "outputId": "4acc0f60-60e0-4273-d50c-c2cfbd3bc567"
      },
      "execution_count": null,
      "outputs": [
        {
          "output_type": "stream",
          "name": "stdout",
          "text": [
            "[10, 3, 5, 7]\n"
          ]
        }
      ]
    },
    {
      "cell_type": "code",
      "source": [
        "aList = [10,3,5]\n",
        "print(aList.sort())"
      ],
      "metadata": {
        "colab": {
          "base_uri": "https://localhost:8080/"
        },
        "id": "bw8gacL1wIDM",
        "outputId": "b761827c-d514-4fdd-d6a9-b43682995315"
      },
      "execution_count": null,
      "outputs": [
        {
          "output_type": "stream",
          "name": "stdout",
          "text": [
            "None\n"
          ]
        }
      ]
    },
    {
      "cell_type": "code",
      "source": [
        "aList = [10,3,5]\n",
        "aList.sort()\n",
        "print(aList)"
      ],
      "metadata": {
        "colab": {
          "base_uri": "https://localhost:8080/"
        },
        "id": "AXZAl5sTwPJ3",
        "outputId": "d6b3f629-e63b-4819-a94c-fa233b386072"
      },
      "execution_count": null,
      "outputs": [
        {
          "output_type": "stream",
          "name": "stdout",
          "text": [
            "[3, 5, 10]\n"
          ]
        }
      ]
    },
    {
      "cell_type": "code",
      "source": [
        "# 도형의 이름을(사각형 삼각형, 원) 입력받아, 각각의 넓이를 구하는 프로그램을 작성하시오.\n",
        "# 각 도형의 넗이는 함수(rec_area, tri_area, circle_area)를 사용하여 작성한다.\n",
        "\n",
        "# 함수정의\n",
        "def rec_area(a,b):\n",
        "\n",
        "    return a*b\n",
        "\n",
        "def tri_area(m,h):\n",
        "\n",
        "    return m*h*0.5\n",
        "\n",
        "def circle_area(r):\n",
        "\n",
        "    return 3.14*r**2\n",
        "\n",
        "\n",
        "shape = input(\"도형 이름 입력 (사각형, 삼각형, 원): \")\n",
        "result = 0\n",
        "if shape == \"사각형\":\n",
        "    a = int(input(\"가로 길이 입력: \"))\n",
        "    b = int(input(\"세로 길이 입력: \"))\n",
        "\n",
        "    result = rec_area(a,b)\n",
        "\n",
        "elif shape == \"삼각형\":\n",
        "    m = int(input(\"및변 길이 입력: \"))\n",
        "    h = int(input(\"높이 길이 입력: \"))\n",
        "    result = tri_area(m,h)\n",
        "\n",
        "elif shape == \"원\":\n",
        "    r = int(input(\"반지름 입력: \"))\n",
        "    result = circle_area(r)\n",
        "else:\n",
        "    print(\"입력한 도형을 확인하세요.\")\n",
        "\n",
        "print(f\"입력받은 {shape}의 넓이는 {result} 입니다.\")\n"
      ],
      "metadata": {
        "colab": {
          "base_uri": "https://localhost:8080/"
        },
        "id": "meVd1RyVwXJ0",
        "outputId": "87b42811-1adc-4f07-9537-6b8dee408e1d"
      },
      "execution_count": null,
      "outputs": [
        {
          "output_type": "stream",
          "name": "stdout",
          "text": [
            "도형 이름 입력 (사각형, 삼각형, 원): 삼각형\n",
            "및변 길이 입력: 10\n",
            "높이 길이 입력: 2\n",
            "입력받은 삼각형의 넓이는 10.0 입니다.\n"
          ]
        }
      ]
    },
    {
      "cell_type": "code",
      "source": [
        "def f(x):\n",
        "    y=x\n",
        "    print(f\"함수내부의 {x}의 메모리주소는 {id(x)}이다\")\n",
        "    x = 5\n",
        "    print(f\"함수내부 두번째 x의 메모리 주소 {id(x)}\")\n",
        "    return y*y\n",
        "\n",
        "x = 3\n",
        "print(f(x))\n",
        "print(x)\n",
        "print(f\"메인부분에서의 {x}의 메모리 주소{id(x)}\")"
      ],
      "metadata": {
        "colab": {
          "base_uri": "https://localhost:8080/"
        },
        "id": "PSRCJalZ4QT1",
        "outputId": "a88d811b-d300-4ae7-acf1-aa6bf4c7c843"
      },
      "execution_count": null,
      "outputs": [
        {
          "output_type": "stream",
          "name": "stdout",
          "text": [
            "함수내부의 3의 메모리주소는 139869237346608이다\n",
            "함수내부 두번째 x의 메모리 주소 139869237346672\n",
            "9\n",
            "3\n",
            "메인부분에서의 3의 메모리 주소139869237346608\n"
          ]
        }
      ]
    },
    {
      "cell_type": "code",
      "source": [
        "def spam(eggs):\n",
        "    eggs.append(1)\n",
        "    print(f\"함수 내부의 eggs의 메모리 주소 {id(eggs)}\")\n",
        "    eggs = [2,3]\n",
        "    print(f\"함수 내부의 두번째 eggs의 메모리 주소 {id(eggs)}\")\n",
        "\n",
        "ham = [0]\n",
        "print(f\"메인함수의 ham 메모리 주소n {id(ham)}\")\n",
        "spam(ham)\n",
        "print(ham)\n",
        "print(f\"메인함수의 두번째 ham의 메모리 주소 {id(ham)}\")"
      ],
      "metadata": {
        "colab": {
          "base_uri": "https://localhost:8080/"
        },
        "id": "IxQUz7Ac53Kx",
        "outputId": "e0bf2667-46ca-4504-b14a-7120ee9014b0"
      },
      "execution_count": null,
      "outputs": [
        {
          "output_type": "stream",
          "name": "stdout",
          "text": [
            "[0, 1]\n"
          ]
        }
      ]
    },
    {
      "cell_type": "code",
      "source": [
        "def calc(x,y):\n",
        "    total = x+y\n",
        "    print(\"In Function\")\n",
        "    print(\"a:\",a,\"b:\",b,\"a+b:\",a+b,\"total:\",total)\n",
        "    return total\n",
        "\n",
        "a = 5\n",
        "b = 7\n",
        "total = 0\n",
        "print(\"In Program\")\n",
        "print(\"a:\",a,\"b:\",b,\"a+b:\",a+b)\n",
        "sum = calc(a,b)\n",
        "print(\"After calculation\")\n",
        "print(\"total:\",total,\"sum:\",sum)"
      ],
      "metadata": {
        "id": "MYs6KSgo7d7p"
      },
      "execution_count": null,
      "outputs": []
    }
  ]
}